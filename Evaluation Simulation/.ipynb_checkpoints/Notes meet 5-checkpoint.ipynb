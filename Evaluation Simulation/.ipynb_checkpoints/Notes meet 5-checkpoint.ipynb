{
 "cells": [
  {
   "cell_type": "code",
   "execution_count": null,
   "id": "b7eee2c3-7a1f-49cd-b847-d7d49a2e7ed1",
   "metadata": {},
   "outputs": [],
   "source": [
    "y_true=[1,1,0,0,1]\n",
    "y_pred=[1,0,0,1,1]\n",
    "\n",
    "def confusion_matrix(y_true, y_pred):\n",
    "  TP = sum((y_true[i] == 1 and y_pred[i] == 1) for i in range(len(y_true)))\n",
    "  TN = sum((y_true[i] == 0 and y_pred[i] == 0) for i in range(len(y_true)))\n",
    "  FP = sum((y_true[i] == 0 and y_pred[i] == 1) for i in range(len(y_true)))\n",
    "  FN = sum((y_true[i] == 1 and y_pred[i] == 0) for i in range(len(y_true)))\n",
    "\n",
    "  return TP, TN, FP, FN\n",
    "\n",
    "TP, TN, FP, FN = confusion_matrix(y_true, y_pred)\n",
    "print(f\"TP: {TP}, TN: {TN}, FP: {FP}, FN: {FN}\")"
   ]
  },
  {
   "cell_type": "code",
   "execution_count": null,
   "id": "48df4ef0-5f62-44d5-b6bf-cffcf5d89887",
   "metadata": {},
   "outputs": [],
   "source": [
    "def accuracy(TP, TN, FP, FN):\n",
    "    return (TP+TN)/(TP+TN+FP+FN)\n",
    "accuracy_value=accuracy(TP, TN, FP ,FN)\n",
    "print(f\"Accuracy: {accuracy_value:.2f}\")"
   ]
  },
  {
   "cell_type": "code",
   "execution_count": null,
   "id": "a3bf66cc-5880-4554-bc7e-8944f2d18c61",
   "metadata": {},
   "outputs": [],
   "source": [
    "def precision (TP, FP):\n",
    "    if TP+FP==0:\n",
    "        return 0\n",
    "    return TP/(TP+FP)\n",
    "precision_value=precision(TP,FP)\n",
    "print (f\"Precision: {precision_value:.2f}\")"
   ]
  },
  {
   "cell_type": "code",
   "execution_count": null,
   "id": "a80a687d-019a-4597-bfae-87429b874f9e",
   "metadata": {},
   "outputs": [],
   "source": [
    "def recall(TP, FN):\n",
    "  if TP + FN == 0:\n",
    "    return 0\n",
    "  return TP / (TP + FN)\n",
    "\n",
    "recall_value = recall(TP, FN)\n",
    "print(f\"Recall: {recall_value:.2f}\")"
   ]
  },
  {
   "cell_type": "code",
   "execution_count": null,
   "id": "ee0de929-03c0-4ac1-b4e6-67b47b6de99e",
   "metadata": {},
   "outputs": [],
   "source": [
    "def f1_score(precision, recall):\n",
    "  if precision + recall == 0:\n",
    "    return 0\n",
    "  return 2 * (precision * recall) / (precision + recall)\n",
    "\n",
    "  f1_value = f1_score(precision_value, recall_value)\n",
    "  print(f\"F1 Score: {f1_value:.2f}\")"
   ]
  },
  {
   "cell_type": "code",
   "execution_count": null,
   "id": "5c58402b-2e2b-41bc-bf0d-4dade59c7ccc",
   "metadata": {},
   "outputs": [],
   "source": [
    "from functools import cmp_to_key\n",
    "from sklearn.metrics import (\n",
    "    confusion_matrix,\n",
    "    accuracy_score,\n",
    "    precision_score,\n",
    "    recall_score,\n",
    "    f1_score\n",
    ")\n",
    "\n",
    "y_true = [1, 1, 0, 0, 1, 1]\n",
    "y_pred = [1, 0, 0, 0, 1, 1]\n",
    "\n",
    "cm = confusion_matrix(y_true, y_pred)\n",
    "accuracy = accuracy_score(y_true, y_pred)\n",
    "precision = precision_score(y_true, y_pred)\n",
    "recall = recall_score(y_true, y_pred)\n",
    "f1 = f1_score(y_true, y_pred)\n",
    "\n",
    "print(\"Confusion Matrix:\\n\", cm)\n",
    "print(\"Accuracy:\", accuracy)\n",
    "print(\"Precision:\", precision)\n",
    "print(\"Recall:\", recall)\n",
    "print(\"F1 Score:\", f1)\n"
   ]
  }
 ],
 "metadata": {
  "kernelspec": {
   "display_name": "Python 3 (ipykernel)",
   "language": "python",
   "name": "python3"
  },
  "language_info": {
   "codemirror_mode": {
    "name": "ipython",
    "version": 3
   },
   "file_extension": ".py",
   "mimetype": "text/x-python",
   "name": "python",
   "nbconvert_exporter": "python",
   "pygments_lexer": "ipython3",
   "version": "3.10.6"
  }
 },
 "nbformat": 4,
 "nbformat_minor": 5
}
