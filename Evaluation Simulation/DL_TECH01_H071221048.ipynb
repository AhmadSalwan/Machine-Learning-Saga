{
 "cells": [
  {
   "cell_type": "code",
   "execution_count": 43,
   "id": "c455cb05-cd06-479e-affb-6706310c012d",
   "metadata": {},
   "outputs": [],
   "source": [
    "#QUiZ\n",
    "# 1. What is Confusion matrix used for in machine learning?\n",
    "# 2. Given the confusion matrix below, what is the True Positive (TP) Count?\n",
    "# 3. How is precision calculated from a confusion matrix?\n",
    "# 4. Using the following confusion matrix, calculate the Accuracy\n",
    "# 5. What is F1 score if the Precision is 0.8 and the Recall is 0.6"
   ]
  },
  {
   "cell_type": "code",
   "execution_count": null,
   "id": "769fd936-0fa3-4792-b6fa-ca2543c05452",
   "metadata": {},
   "outputs": [],
   "source": [
    "# Answers\n",
    "# 1. Confusion matrix is used to measure the performanc of classification algorithm, it visualizes and summarizes the performance by splitting the TP, TN, FP and FN to 4 grids\n",
    "# by measuring the performance, we can determine wheter the algorithm is good enough or it need further training. We can also follow up the confusion matrix by counting the Accuracy, precision, revcall and F1 score\n",
    "# 3. Precision count the amount of correct predictive predictions made (TP and TN)\n",
    "# The formula is\n",
    "# TP/(TP+FP) Where \n",
    "# TP = True Positive and FP = False Postive\n"
   ]
  },
  {
   "cell_type": "code",
   "execution_count": 69,
   "id": "f67d9234-8160-41d9-813f-d57e4a23af40",
   "metadata": {},
   "outputs": [],
   "source": [
    "def confusion_matrix(y_true, y_pred):\n",
    "  TP = sum((y_true[i] == 1 and y_pred[i] == 1) for i in range(len(y_true)))\n",
    "  TN = sum((y_true[i] == 0 and y_pred[i] == 0) for i in range(len(y_true)))\n",
    "  FP = sum((y_true[i] == 0 and y_pred[i] == 1) for i in range(len(y_true)))\n",
    "  FN = sum((y_true[i] == 1 and y_pred[i] == 0) for i in range(len(y_true)))\n",
    "\n",
    "  return TP, TN, FP, FN"
   ]
  },
  {
   "cell_type": "code",
   "execution_count": 70,
   "id": "78b07682-f239-46f1-8232-693f38aed6bf",
   "metadata": {},
   "outputs": [
    {
     "name": "stdout",
     "output_type": "stream",
     "text": [
      "TP: 3, TN: 4, FP: 2, FN: 1\n"
     ]
    }
   ],
   "source": [
    "#2\n",
    "y_true=[1,1,0,0,1,0,0,0,1,0]\n",
    "y_pred=[1,1,0,0,1,1,1,0,0,0]\n",
    "TP, TN, FP, FN = confusion_matrix(y_true, y_pred)\n",
    "print(f\"TP: {TP}, TN: {TN}, FP: {FP}, FN: {FN}\")\n",
    "#TP = 3"
   ]
  },
  {
   "cell_type": "code",
   "execution_count": 68,
   "id": "d3dd0f9b-1dd2-4130-8169-2d7b68abfb3d",
   "metadata": {},
   "outputs": [
    {
     "name": "stdout",
     "output_type": "stream",
     "text": [
      "TP: 5, TN: 4, FP: 2, FN: 3\n"
     ]
    }
   ],
   "source": [
    "#4\n",
    "y_true=[1,1,0,0,1,1,0,0,1,0,1,0,1,1]\n",
    "y_pred=[1,1,0,0,1,1,1,0,1,0,0,1,0,0]\n",
    "\n",
    "TP, TN, FP, FN = confusion_matrix(y_true, y_pred)\n",
    "print(f\"TP: {TP}, TN: {TN}, FP: {FP}, FN: {FN}\")"
   ]
  },
  {
   "cell_type": "code",
   "execution_count": 62,
   "id": "e068fba0-1020-4cdf-b90f-109a5c8a5a07",
   "metadata": {},
   "outputs": [
    {
     "name": "stdout",
     "output_type": "stream",
     "text": [
      "Accuracy: 0.64\n"
     ]
    }
   ],
   "source": [
    "\n",
    "def accuracy(TP, TN, FP, FN):\n",
    "    return (TP+TN)/(TP+TN+FP+FN)\n",
    "accuracy_value=accuracy(TP, TN, FP ,FN)\n",
    "print(f\"Accuracy: {accuracy_value:.2f}\")\n",
    "\n",
    "\n"
   ]
  },
  {
   "cell_type": "code",
   "execution_count": 66,
   "id": "13fe33f5-d60f-45ca-8b2f-0dd1b737642d",
   "metadata": {},
   "outputs": [
    {
     "name": "stdout",
     "output_type": "stream",
     "text": [
      "0.6857142857142857\n"
     ]
    }
   ],
   "source": [
    "#5\n",
    "def f1_score(precision, recall):\n",
    "  if precision + recall == 0:\n",
    "    return 0\n",
    "  return 2 * (precision * recall) / (precision + recall)\n",
    "\n",
    "f1=f1_score(0.8,0.6)\n",
    "print(f1)"
   ]
  },
  {
   "cell_type": "code",
   "execution_count": null,
   "id": "51925e16-6b6b-49da-aff9-a123a89eafdd",
   "metadata": {},
   "outputs": [],
   "source": []
  }
 ],
 "metadata": {
  "kernelspec": {
   "display_name": "Python 3 (ipykernel)",
   "language": "python",
   "name": "python3"
  },
  "language_info": {
   "codemirror_mode": {
    "name": "ipython",
    "version": 3
   },
   "file_extension": ".py",
   "mimetype": "text/x-python",
   "name": "python",
   "nbconvert_exporter": "python",
   "pygments_lexer": "ipython3",
   "version": "3.10.6"
  }
 },
 "nbformat": 4,
 "nbformat_minor": 5
}
